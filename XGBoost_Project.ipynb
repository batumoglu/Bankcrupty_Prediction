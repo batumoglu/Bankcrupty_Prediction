{
 "cells": [
  {
   "cell_type": "code",
   "execution_count": 1,
   "metadata": {},
   "outputs": [
    {
     "name": "stderr",
     "output_type": "stream",
     "text": [
      "/home/ozkan/anaconda2/lib/python2.7/site-packages/sklearn/cross_validation.py:44: DeprecationWarning: This module was deprecated in version 0.18 in favor of the model_selection module into which all the refactored classes and functions are moved. Also note that the interface of the new CV iterators are different from that of this module. This module will be removed in 0.20.\n",
      "  \"This module will be removed in 0.20.\", DeprecationWarning)\n"
     ]
    }
   ],
   "source": [
    "import pandas as pd\n",
    "import numpy as np\n",
    "import xgboost as xgb\n",
    "from sklearn.model_selection import train_test_split\n",
    "from sklearn.metrics import accuracy_score, confusion_matrix, roc_auc_score"
   ]
  },
  {
   "cell_type": "code",
   "execution_count": 2,
   "metadata": {
    "collapsed": true
   },
   "outputs": [],
   "source": [
    "data = pd.read_csv('mesrur2.csv')"
   ]
  },
  {
   "cell_type": "code",
   "execution_count": 3,
   "metadata": {},
   "outputs": [
    {
     "name": "stdout",
     "output_type": "stream",
     "text": [
      "<class 'pandas.core.frame.DataFrame'>\n",
      "RangeIndex: 144788 entries, 0 to 144787\n",
      "Columns: 139 entries, SellerCode to Payment1st3Months_F\n",
      "dtypes: float64(36), int64(103)\n",
      "memory usage: 153.5 MB\n"
     ]
    }
   ],
   "source": [
    "data.info()"
   ]
  },
  {
   "cell_type": "code",
   "execution_count": 4,
   "metadata": {},
   "outputs": [
    {
     "data": {
      "text/html": [
       "<div>\n",
       "<style>\n",
       "    .dataframe thead tr:only-child th {\n",
       "        text-align: right;\n",
       "    }\n",
       "\n",
       "    .dataframe thead th {\n",
       "        text-align: left;\n",
       "    }\n",
       "\n",
       "    .dataframe tbody tr th {\n",
       "        vertical-align: top;\n",
       "    }\n",
       "</style>\n",
       "<table border=\"1\" class=\"dataframe\">\n",
       "  <thead>\n",
       "    <tr style=\"text-align: right;\">\n",
       "      <th></th>\n",
       "      <th>SellerCode</th>\n",
       "      <th>FollowingFlag</th>\n",
       "      <th>citycode</th>\n",
       "      <th>GenderCode</th>\n",
       "      <th>CustomerAge</th>\n",
       "      <th>CustomerAgeGroup</th>\n",
       "      <th>LoanCountasGuarantor</th>\n",
       "      <th>LoanCountasGuarantorGroup</th>\n",
       "      <th>DistinctGuarantorCount</th>\n",
       "      <th>ProtocolCount</th>\n",
       "      <th>...</th>\n",
       "      <th>UnresolvedCheques_AcqUPB</th>\n",
       "      <th>UnresolvedCGoodsFinance_AcqUPB</th>\n",
       "      <th>UnresolvedCreditCard_CurLoanTRY3</th>\n",
       "      <th>UnresolvedHousingCredit_CurLoanTRY3</th>\n",
       "      <th>UnresolvedConsumerCredit_CurLoanTRY3</th>\n",
       "      <th>UnresolvedVehicleCredit_CurLoanTRY3</th>\n",
       "      <th>UnresolvedKMH_CurLoanTRY3</th>\n",
       "      <th>UnresolvedCheques_CurLoanTRY3</th>\n",
       "      <th>UnresolvedCGoodsFinance_CurLoanTRY3</th>\n",
       "      <th>Payment1st3Months_F</th>\n",
       "    </tr>\n",
       "  </thead>\n",
       "  <tbody>\n",
       "    <tr>\n",
       "      <th>0</th>\n",
       "      <td>44</td>\n",
       "      <td>0</td>\n",
       "      <td>41.0</td>\n",
       "      <td>1.0</td>\n",
       "      <td>44.0</td>\n",
       "      <td>45</td>\n",
       "      <td>0</td>\n",
       "      <td>0</td>\n",
       "      <td>0</td>\n",
       "      <td>0</td>\n",
       "      <td>...</td>\n",
       "      <td>0.0</td>\n",
       "      <td>0.0</td>\n",
       "      <td>0.00</td>\n",
       "      <td>0.0</td>\n",
       "      <td>86854.60</td>\n",
       "      <td>0.0</td>\n",
       "      <td>0.00</td>\n",
       "      <td>0.0</td>\n",
       "      <td>0.0</td>\n",
       "      <td>0</td>\n",
       "    </tr>\n",
       "    <tr>\n",
       "      <th>1</th>\n",
       "      <td>43</td>\n",
       "      <td>1</td>\n",
       "      <td>38.0</td>\n",
       "      <td>1.0</td>\n",
       "      <td>29.0</td>\n",
       "      <td>30</td>\n",
       "      <td>0</td>\n",
       "      <td>0</td>\n",
       "      <td>0</td>\n",
       "      <td>0</td>\n",
       "      <td>...</td>\n",
       "      <td>0.0</td>\n",
       "      <td>0.0</td>\n",
       "      <td>0.00</td>\n",
       "      <td>0.0</td>\n",
       "      <td>8944.04</td>\n",
       "      <td>0.0</td>\n",
       "      <td>200.00</td>\n",
       "      <td>0.0</td>\n",
       "      <td>0.0</td>\n",
       "      <td>0</td>\n",
       "    </tr>\n",
       "    <tr>\n",
       "      <th>2</th>\n",
       "      <td>12</td>\n",
       "      <td>0</td>\n",
       "      <td>1.0</td>\n",
       "      <td>1.0</td>\n",
       "      <td>36.0</td>\n",
       "      <td>40</td>\n",
       "      <td>0</td>\n",
       "      <td>0</td>\n",
       "      <td>0</td>\n",
       "      <td>0</td>\n",
       "      <td>...</td>\n",
       "      <td>0.0</td>\n",
       "      <td>0.0</td>\n",
       "      <td>3469.47</td>\n",
       "      <td>0.0</td>\n",
       "      <td>0.00</td>\n",
       "      <td>0.0</td>\n",
       "      <td>0.00</td>\n",
       "      <td>0.0</td>\n",
       "      <td>0.0</td>\n",
       "      <td>0</td>\n",
       "    </tr>\n",
       "    <tr>\n",
       "      <th>3</th>\n",
       "      <td>15</td>\n",
       "      <td>0</td>\n",
       "      <td>NaN</td>\n",
       "      <td>1.0</td>\n",
       "      <td>29.0</td>\n",
       "      <td>30</td>\n",
       "      <td>0</td>\n",
       "      <td>0</td>\n",
       "      <td>0</td>\n",
       "      <td>0</td>\n",
       "      <td>...</td>\n",
       "      <td>0.0</td>\n",
       "      <td>0.0</td>\n",
       "      <td>1869.24</td>\n",
       "      <td>0.0</td>\n",
       "      <td>0.00</td>\n",
       "      <td>0.0</td>\n",
       "      <td>829.07</td>\n",
       "      <td>0.0</td>\n",
       "      <td>0.0</td>\n",
       "      <td>0</td>\n",
       "    </tr>\n",
       "    <tr>\n",
       "      <th>4</th>\n",
       "      <td>43</td>\n",
       "      <td>0</td>\n",
       "      <td>6.0</td>\n",
       "      <td>1.0</td>\n",
       "      <td>27.0</td>\n",
       "      <td>30</td>\n",
       "      <td>0</td>\n",
       "      <td>0</td>\n",
       "      <td>0</td>\n",
       "      <td>3</td>\n",
       "      <td>...</td>\n",
       "      <td>0.0</td>\n",
       "      <td>0.0</td>\n",
       "      <td>1217.40</td>\n",
       "      <td>0.0</td>\n",
       "      <td>0.00</td>\n",
       "      <td>0.0</td>\n",
       "      <td>0.00</td>\n",
       "      <td>0.0</td>\n",
       "      <td>0.0</td>\n",
       "      <td>0</td>\n",
       "    </tr>\n",
       "  </tbody>\n",
       "</table>\n",
       "<p>5 rows × 139 columns</p>\n",
       "</div>"
      ],
      "text/plain": [
       "   SellerCode  FollowingFlag  citycode  GenderCode  CustomerAge  \\\n",
       "0          44              0      41.0         1.0         44.0   \n",
       "1          43              1      38.0         1.0         29.0   \n",
       "2          12              0       1.0         1.0         36.0   \n",
       "3          15              0       NaN         1.0         29.0   \n",
       "4          43              0       6.0         1.0         27.0   \n",
       "\n",
       "   CustomerAgeGroup  LoanCountasGuarantor  LoanCountasGuarantorGroup  \\\n",
       "0                45                     0                          0   \n",
       "1                30                     0                          0   \n",
       "2                40                     0                          0   \n",
       "3                30                     0                          0   \n",
       "4                30                     0                          0   \n",
       "\n",
       "   DistinctGuarantorCount  ProtocolCount         ...           \\\n",
       "0                       0              0         ...            \n",
       "1                       0              0         ...            \n",
       "2                       0              0         ...            \n",
       "3                       0              0         ...            \n",
       "4                       0              3         ...            \n",
       "\n",
       "   UnresolvedCheques_AcqUPB  UnresolvedCGoodsFinance_AcqUPB  \\\n",
       "0                       0.0                             0.0   \n",
       "1                       0.0                             0.0   \n",
       "2                       0.0                             0.0   \n",
       "3                       0.0                             0.0   \n",
       "4                       0.0                             0.0   \n",
       "\n",
       "   UnresolvedCreditCard_CurLoanTRY3  UnresolvedHousingCredit_CurLoanTRY3  \\\n",
       "0                              0.00                                  0.0   \n",
       "1                              0.00                                  0.0   \n",
       "2                           3469.47                                  0.0   \n",
       "3                           1869.24                                  0.0   \n",
       "4                           1217.40                                  0.0   \n",
       "\n",
       "   UnresolvedConsumerCredit_CurLoanTRY3  UnresolvedVehicleCredit_CurLoanTRY3  \\\n",
       "0                              86854.60                                  0.0   \n",
       "1                               8944.04                                  0.0   \n",
       "2                                  0.00                                  0.0   \n",
       "3                                  0.00                                  0.0   \n",
       "4                                  0.00                                  0.0   \n",
       "\n",
       "   UnresolvedKMH_CurLoanTRY3  UnresolvedCheques_CurLoanTRY3  \\\n",
       "0                       0.00                            0.0   \n",
       "1                     200.00                            0.0   \n",
       "2                       0.00                            0.0   \n",
       "3                     829.07                            0.0   \n",
       "4                       0.00                            0.0   \n",
       "\n",
       "   UnresolvedCGoodsFinance_CurLoanTRY3  Payment1st3Months_F  \n",
       "0                                  0.0                    0  \n",
       "1                                  0.0                    0  \n",
       "2                                  0.0                    0  \n",
       "3                                  0.0                    0  \n",
       "4                                  0.0                    0  \n",
       "\n",
       "[5 rows x 139 columns]"
      ]
     },
     "execution_count": 4,
     "metadata": {},
     "output_type": "execute_result"
    }
   ],
   "source": [
    "data.head()"
   ]
  },
  {
   "cell_type": "code",
   "execution_count": 5,
   "metadata": {
    "collapsed": true,
    "scrolled": true
   },
   "outputs": [],
   "source": [
    "y = data.iloc[:,-1]\n",
    "del data['Payment1st3Months_F']"
   ]
  },
  {
   "cell_type": "code",
   "execution_count": 6,
   "metadata": {
    "collapsed": true
   },
   "outputs": [],
   "source": [
    "x_train1, x_test, y_train1, y_test = train_test_split(data, y, test_size=0.33, random_state=42, stratify=y)"
   ]
  },
  {
   "cell_type": "code",
   "execution_count": 10,
   "metadata": {
    "collapsed": true
   },
   "outputs": [],
   "source": [
    "split = 70000\n",
    "x_train, y_train, x_valid, y_valid = x_train1[:split], y_train1[:split], x_train1[split:], y_train1[split:]"
   ]
  },
  {
   "cell_type": "code",
   "execution_count": 11,
   "metadata": {
    "collapsed": true
   },
   "outputs": [],
   "source": [
    "d_train = xgb.DMatrix(x_train, label=y_train)\n",
    "d_valid = xgb.DMatrix(x_valid, label=y_valid)"
   ]
  },
  {
   "cell_type": "code",
   "execution_count": null,
   "metadata": {},
   "outputs": [
    {
     "name": "stdout",
     "output_type": "stream",
     "text": [
      "[0]\ttrain-mae:0.491706\tvalid-mae:0.491751\n",
      "Multiple eval metrics have been passed: 'valid-mae' will be used for early stopping.\n",
      "\n",
      "Will train until valid-mae hasn't improved in 100 rounds.\n",
      "[10]\ttrain-mae:0.417358\tvalid-mae:0.417796\n",
      "[20]\ttrain-mae:0.356558\tvalid-mae:0.357324\n",
      "[30]\ttrain-mae:0.306844\tvalid-mae:0.307917\n",
      "[40]\ttrain-mae:0.266186\tvalid-mae:0.267518\n",
      "[50]\ttrain-mae:0.232927\tvalid-mae:0.234508\n",
      "[60]\ttrain-mae:0.205707\tvalid-mae:0.2075\n",
      "[70]\ttrain-mae:0.18343\tvalid-mae:0.185428\n",
      "[80]\ttrain-mae:0.165193\tvalid-mae:0.16737\n",
      "[90]\ttrain-mae:0.150244\tvalid-mae:0.152584\n",
      "[100]\ttrain-mae:0.138005\tvalid-mae:0.140498\n",
      "[110]\ttrain-mae:0.127977\tvalid-mae:0.130616\n",
      "[120]\ttrain-mae:0.119759\tvalid-mae:0.122538\n",
      "[130]\ttrain-mae:0.113019\tvalid-mae:0.115922\n",
      "[140]\ttrain-mae:0.107486\tvalid-mae:0.110504\n",
      "[150]\ttrain-mae:0.102938\tvalid-mae:0.10606\n",
      "[160]\ttrain-mae:0.099198\tvalid-mae:0.102421\n",
      "[170]\ttrain-mae:0.096127\tvalid-mae:0.099449\n",
      "[180]\ttrain-mae:0.0936\tvalid-mae:0.097015\n",
      "[190]\ttrain-mae:0.09153\tvalid-mae:0.095026\n",
      "[200]\ttrain-mae:0.089833\tvalid-mae:0.093404\n",
      "[210]\ttrain-mae:0.088421\tvalid-mae:0.092067\n",
      "[220]\ttrain-mae:0.087258\tvalid-mae:0.090978\n",
      "[230]\ttrain-mae:0.086289\tvalid-mae:0.090081\n",
      "[240]\ttrain-mae:0.085474\tvalid-mae:0.089331\n",
      "[250]\ttrain-mae:0.084793\tvalid-mae:0.088724\n",
      "[260]\ttrain-mae:0.084237\tvalid-mae:0.088232\n",
      "[270]\ttrain-mae:0.083754\tvalid-mae:0.087819\n",
      "[280]\ttrain-mae:0.083356\tvalid-mae:0.087493\n",
      "[290]\ttrain-mae:0.083012\tvalid-mae:0.087219\n",
      "[300]\ttrain-mae:0.082714\tvalid-mae:0.08699\n",
      "[310]\ttrain-mae:0.082473\tvalid-mae:0.086811\n",
      "[320]\ttrain-mae:0.082253\tvalid-mae:0.086655\n",
      "[330]\ttrain-mae:0.082068\tvalid-mae:0.086536\n",
      "[340]\ttrain-mae:0.081898\tvalid-mae:0.086418\n",
      "[350]\ttrain-mae:0.08176\tvalid-mae:0.086331\n",
      "[360]\ttrain-mae:0.081622\tvalid-mae:0.086252\n",
      "[370]\ttrain-mae:0.081509\tvalid-mae:0.086195\n",
      "[380]\ttrain-mae:0.081399\tvalid-mae:0.086148\n",
      "[390]\ttrain-mae:0.081295\tvalid-mae:0.086104\n",
      "[400]\ttrain-mae:0.081207\tvalid-mae:0.086071\n",
      "[410]\ttrain-mae:0.081133\tvalid-mae:0.086045\n",
      "[420]\ttrain-mae:0.081053\tvalid-mae:0.086022\n",
      "[430]\ttrain-mae:0.08099\tvalid-mae:0.086006\n",
      "[440]\ttrain-mae:0.080916\tvalid-mae:0.085989\n",
      "[450]\ttrain-mae:0.080848\tvalid-mae:0.085971\n"
     ]
    }
   ],
   "source": [
    "params = {}\n",
    "params['eta'] = 0.02\n",
    "params['objective'] = 'reg:linear'\n",
    "params['eval_metric'] = 'mae'\n",
    "params['max_depth'] = 4\n",
    "params['silent'] = 1\n",
    "\n",
    "watchlist = [(d_train, 'train'), (d_valid, 'valid')]\n",
    "clf = xgb.train(params, d_train, 10000, watchlist, early_stopping_rounds=100, verbose_eval=10)\n"
   ]
  },
  {
   "cell_type": "code",
   "execution_count": 24,
   "metadata": {
    "collapsed": true
   },
   "outputs": [],
   "source": [
    "d_test = xgb.DMatrix(x_test)\n",
    "p_test = clf.predict(d_test)"
   ]
  },
  {
   "cell_type": "code",
   "execution_count": 21,
   "metadata": {
    "collapsed": true
   },
   "outputs": [],
   "source": [
    "accuracy = accuracy_score(y_test, p_test.round())\n",
    "matrix = confusion_matrix(y_test, p_test.round())nked"
   ]
  },
  {
   "cell_type": "code",
   "execution_count": 20,
   "metadata": {},
   "outputs": [
    {
     "data": {
      "text/plain": [
       "0.9523032167597999"
      ]
     },
     "execution_count": 20,
     "metadata": {},
     "output_type": "execute_result"
    }
   ],
   "source": [
    "accuracy"
   ]
  },
  {
   "cell_type": "code",
   "execution_count": 22,
   "metadata": {},
   "outputs": [
    {
     "data": {
      "text/plain": [
       "array([[45486,    21],\n",
       "       [ 2258,    16]])"
      ]
     },
     "execution_count": 22,
     "metadata": {},
     "output_type": "execute_result"
    }
   ],
   "source": [
    "matrix"
   ]
  }
 ],
 "metadata": {
  "kernelspec": {
   "display_name": "Python 2",
   "language": "python",
   "name": "python2"
  },
  "language_info": {
   "codemirror_mode": {
    "name": "ipython",
    "version": 2
   },
   "file_extension": ".py",
   "mimetype": "text/x-python",
   "name": "python",
   "nbconvert_exporter": "python",
   "pygments_lexer": "ipython2",
   "version": "2.7.13"
  }
 },
 "nbformat": 4,
 "nbformat_minor": 2
}
